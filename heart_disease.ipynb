{
 "cells": [
  {
   "cell_type": "code",
   "execution_count": 0,
   "metadata": {
    "application/vnd.databricks.v1+cell": {
     "cellMetadata": {
      "byteLimit": 2048000,
      "rowLimit": 10000
     },
     "inputWidgets": {},
     "nuid": "a80fcff4-9b5e-4799-af52-577cf841f331",
     "showTitle": false,
     "title": ""
    }
   },
   "outputs": [],
   "source": [
    "import pyspark\n",
    "from pyspark.sql import SparkSession\n",
    "from pyspark.sql.types import StructType, StructField, StringType, IntegerType\n",
    "from pyspark.sql.functions import *"
   ]
  },
  {
   "cell_type": "code",
   "execution_count": 0,
   "metadata": {
    "application/vnd.databricks.v1+cell": {
     "cellMetadata": {
      "byteLimit": 2048000,
      "rowLimit": 10000
     },
     "inputWidgets": {},
     "nuid": "a56324e6-204f-4302-bd15-430c96bee249",
     "showTitle": false,
     "title": ""
    }
   },
   "outputs": [],
   "source": [
    "df=spark.read.load(\"/FileStore/tables/heart_disease_uci.csv\",format=\"csv\",sep=\",\",header=\"true\",escape='\"',inferSchema=\"true\")"
   ]
  },
  {
   "cell_type": "code",
   "execution_count": 0,
   "metadata": {
    "application/vnd.databricks.v1+cell": {
     "cellMetadata": {
      "byteLimit": 2048000,
      "rowLimit": 10000
     },
     "inputWidgets": {},
     "nuid": "b54d45c7-b5c6-41f4-8263-8f12b756c946",
     "showTitle": false,
     "title": ""
    }
   },
   "outputs": [
    {
     "output_type": "stream",
     "name": "stdout",
     "output_type": "stream",
     "text": [
      "+---+---+------+---------+---------------+--------+----+-----+--------------+------+-----+-------+-----------+---+-----------------+---+\n| id|age|   sex|  dataset|             cp|trestbps|chol|  fbs|       restecg|thalch|exang|oldpeak|      slope| ca|             thal|num|\n+---+---+------+---------+---------------+--------+----+-----+--------------+------+-----+-------+-----------+---+-----------------+---+\n|  1| 63|  Male|Cleveland| typical angina|     145| 233| true|lv hypertrophy|   150|false|    2.3|downsloping|  0|     fixed defect|  0|\n|  2| 67|  Male|Cleveland|   asymptomatic|     160| 286|false|lv hypertrophy|   108| true|    1.5|       flat|  3|           normal|  2|\n|  3| 67|  Male|Cleveland|   asymptomatic|     120| 229|false|lv hypertrophy|   129| true|    2.6|       flat|  2|reversable defect|  1|\n|  4| 37|  Male|Cleveland|    non-anginal|     130| 250|false|        normal|   187|false|    3.5|downsloping|  0|           normal|  0|\n|  5| 41|Female|Cleveland|atypical angina|     130| 204|false|lv hypertrophy|   172|false|    1.4|  upsloping|  0|           normal|  0|\n|  6| 56|  Male|Cleveland|atypical angina|     120| 236|false|        normal|   178|false|    0.8|  upsloping|  0|           normal|  0|\n|  7| 62|Female|Cleveland|   asymptomatic|     140| 268|false|lv hypertrophy|   160|false|    3.6|downsloping|  2|           normal|  3|\n|  8| 57|Female|Cleveland|   asymptomatic|     120| 354|false|        normal|   163| true|    0.6|  upsloping|  0|           normal|  0|\n|  9| 63|  Male|Cleveland|   asymptomatic|     130| 254|false|lv hypertrophy|   147|false|    1.4|       flat|  1|reversable defect|  2|\n| 10| 53|  Male|Cleveland|   asymptomatic|     140| 203| true|lv hypertrophy|   155| true|    3.1|downsloping|  0|reversable defect|  1|\n+---+---+------+---------+---------------+--------+----+-----+--------------+------+-----+-------+-----------+---+-----------------+---+\nonly showing top 10 rows\n\n"
     ]
    }
   ],
   "source": [
    "df.show(10)"
   ]
  },
  {
   "cell_type": "code",
   "execution_count": 0,
   "metadata": {
    "application/vnd.databricks.v1+cell": {
     "cellMetadata": {
      "byteLimit": 2048000,
      "rowLimit": 10000
     },
     "inputWidgets": {},
     "nuid": "fa88c18e-4757-4297-9be4-f9c5ba2c95ba",
     "showTitle": false,
     "title": ""
    }
   },
   "outputs": [
    {
     "output_type": "stream",
     "name": "stdout",
     "output_type": "stream",
     "text": [
      "Out[4]: 920"
     ]
    }
   ],
   "source": [
    "df.count()"
   ]
  },
  {
   "cell_type": "code",
   "execution_count": 0,
   "metadata": {
    "application/vnd.databricks.v1+cell": {
     "cellMetadata": {
      "byteLimit": 2048000,
      "rowLimit": 10000
     },
     "inputWidgets": {},
     "nuid": "7fa2e8f9-d561-41fa-b47f-1285d5cc8f4a",
     "showTitle": false,
     "title": ""
    }
   },
   "outputs": [
    {
     "output_type": "stream",
     "name": "stdout",
     "output_type": "stream",
     "text": [
      "root\n |-- id: integer (nullable = true)\n |-- age: integer (nullable = true)\n |-- sex: string (nullable = true)\n |-- dataset: string (nullable = true)\n |-- cp: string (nullable = true)\n |-- trestbps: integer (nullable = true)\n |-- chol: integer (nullable = true)\n |-- fbs: boolean (nullable = true)\n |-- restecg: string (nullable = true)\n |-- thalch: integer (nullable = true)\n |-- exang: boolean (nullable = true)\n |-- oldpeak: double (nullable = true)\n |-- slope: string (nullable = true)\n |-- ca: integer (nullable = true)\n |-- thal: string (nullable = true)\n |-- num: integer (nullable = true)\n\n"
     ]
    }
   ],
   "source": [
    "df.printSchema()"
   ]
  },
  {
   "cell_type": "code",
   "execution_count": 0,
   "metadata": {
    "application/vnd.databricks.v1+cell": {
     "cellMetadata": {
      "byteLimit": 2048000,
      "rowLimit": 10000
     },
     "inputWidgets": {},
     "nuid": "180b14f3-cb80-4d90-91f9-0ddf7086bc4c",
     "showTitle": false,
     "title": ""
    }
   },
   "outputs": [
    {
     "output_type": "stream",
     "name": "stdout",
     "output_type": "stream",
     "text": [
      "id: 0 null values\nage: 0 null values\nsex: 0 null values\ndataset: 0 null values\ncp: 0 null values\ntrestbps: 59 null values\nchol: 30 null values\nfbs: 90 null values\nrestecg: 2 null values\nthalch: 55 null values\nexang: 55 null values\noldpeak: 62 null values\nslope: 309 null values\nca: 611 null values\nthal: 486 null values\nnum: 0 null values\n"
     ]
    }
   ],
   "source": [
    "for column in df.columns:\n",
    "    null_count = df.where(col(column).isNull()).count()\n",
    "    print(f\"{column}: {null_count} null values\")"
   ]
  },
  {
   "cell_type": "code",
   "execution_count": 0,
   "metadata": {
    "application/vnd.databricks.v1+cell": {
     "cellMetadata": {
      "byteLimit": 2048000,
      "rowLimit": 10000
     },
     "inputWidgets": {},
     "nuid": "c5c9aef7-266e-48d1-979b-ebe8f8e750bd",
     "showTitle": false,
     "title": ""
    }
   },
   "outputs": [],
   "source": [
    "df = df.dropna()"
   ]
  },
  {
   "cell_type": "code",
   "execution_count": 0,
   "metadata": {
    "application/vnd.databricks.v1+cell": {
     "cellMetadata": {
      "byteLimit": 2048000,
      "rowLimit": 10000
     },
     "inputWidgets": {},
     "nuid": "e8846612-c279-4dd0-b1cd-0f1e31eb99a4",
     "showTitle": false,
     "title": ""
    }
   },
   "outputs": [
    {
     "output_type": "stream",
     "name": "stdout",
     "output_type": "stream",
     "text": [
      "id: 0 null values\nage: 0 null values\nsex: 0 null values\ndataset: 0 null values\ncp: 0 null values\ntrestbps: 0 null values\nchol: 0 null values\nfbs: 0 null values\nrestecg: 0 null values\nthalch: 0 null values\nexang: 0 null values\noldpeak: 0 null values\nslope: 0 null values\nca: 0 null values\nthal: 0 null values\nnum: 0 null values\n"
     ]
    }
   ],
   "source": [
    "for column in df.columns:\n",
    "    null_count = df.where(col(column).isNull()).count()\n",
    "    print(f\"{column}: {null_count} null values\")"
   ]
  },
  {
   "cell_type": "code",
   "execution_count": 0,
   "metadata": {
    "application/vnd.databricks.v1+cell": {
     "cellMetadata": {
      "byteLimit": 2048000,
      "rowLimit": 10000
     },
     "inputWidgets": {},
     "nuid": "ff563101-3ad0-4772-b7b4-1c5e05c556a1",
     "showTitle": false,
     "title": ""
    }
   },
   "outputs": [],
   "source": [
    "df.createOrReplaceTempView(\"heart\")"
   ]
  },
  {
   "cell_type": "code",
   "execution_count": 0,
   "metadata": {
    "application/vnd.databricks.v1+cell": {
     "cellMetadata": {
      "byteLimit": 2048000,
      "implicitDf": true,
      "rowLimit": 10000
     },
     "inputWidgets": {},
     "nuid": "92455b68-2a0f-4f24-a17e-b8e58fcd4f07",
     "showTitle": false,
     "title": ""
    }
   },
   "outputs": [
    {
     "output_type": "display_data",
     "data": {
      "text/html": [
       "<style scoped>\n",
       "  .table-result-container {\n",
       "    max-height: 300px;\n",
       "    overflow: auto;\n",
       "  }\n",
       "  table, th, td {\n",
       "    border: 1px solid black;\n",
       "    border-collapse: collapse;\n",
       "  }\n",
       "  th, td {\n",
       "    padding: 5px;\n",
       "  }\n",
       "  th {\n",
       "    text-align: left;\n",
       "  }\n",
       "</style><div class='table-result-container'><table class='table-result'><thead style='background-color: white'><tr><th>sex</th><th>no_heart_disease</th><th>heart_disease</th><th>heart_disease_rate</th></tr></thead><tbody><tr><td>Female</td><td>71</td><td>25</td><td>26.04%</td></tr><tr><td>Male</td><td>89</td><td>114</td><td>56.16%</td></tr></tbody></table></div>"
      ]
     },
     "metadata": {
      "application/vnd.databricks.v1+output": {
       "addedWidgets": {},
       "aggData": [],
       "aggError": "",
       "aggOverflow": false,
       "aggSchema": [],
       "aggSeriesLimitReached": false,
       "aggType": "",
       "arguments": {},
       "columnCustomDisplayInfos": {},
       "data": [
        [
         "Female",
         71,
         25,
         "26.04%"
        ],
        [
         "Male",
         89,
         114,
         "56.16%"
        ]
       ],
       "datasetInfos": [],
       "dbfsResultPath": null,
       "isJsonSchema": true,
       "metadata": {},
       "overflow": false,
       "plotOptions": {
        "customPlotOptions": {},
        "displayType": "table",
        "pivotAggregation": null,
        "pivotColumns": null,
        "xColumns": null,
        "yColumns": null
       },
       "removedWidgets": [],
       "schema": [
        {
         "metadata": "{}",
         "name": "sex",
         "type": "\"string\""
        },
        {
         "metadata": "{}",
         "name": "no_heart_disease",
         "type": "\"long\""
        },
        {
         "metadata": "{}",
         "name": "heart_disease",
         "type": "\"long\""
        },
        {
         "metadata": "{}",
         "name": "heart_disease_rate",
         "type": "\"string\""
        }
       ],
       "type": "table"
      }
     },
     "output_type": "display_data"
    }
   ],
   "source": [
    "%sql\n",
    "--cinsiyetlere göre hasta olan ve hasta olmayan kişi sayısını getirip bu sayıları baz alarak cinsiyetler özelinde kalp hastası oranını getiren sorgu\n",
    "SELECT sex, \n",
    "       SUM(CASE WHEN num = 0 THEN 1 ELSE 0 END) AS no_heart_disease,\n",
    "       SUM(CASE WHEN num > 0 THEN 1 ELSE 0 END) AS heart_disease,\n",
    "       CONCAT(ROUND((SUM(CASE WHEN num > 0 THEN 1 ELSE 0 END) / COUNT(*)) * 100, 2), '%') AS heart_disease_rate\n",
    "FROM heart\n",
    "GROUP BY sex\n"
   ]
  },
  {
   "cell_type": "code",
   "execution_count": 0,
   "metadata": {
    "application/vnd.databricks.v1+cell": {
     "cellMetadata": {
      "byteLimit": 2048000,
      "implicitDf": true,
      "rowLimit": 10000
     },
     "inputWidgets": {},
     "nuid": "a53f4457-7ba9-408a-8c1b-3c22d80e752c",
     "showTitle": false,
     "title": ""
    }
   },
   "outputs": [
    {
     "output_type": "display_data",
     "data": {
      "text/html": [
       "<style scoped>\n",
       "  .table-result-container {\n",
       "    max-height: 300px;\n",
       "    overflow: auto;\n",
       "  }\n",
       "  table, th, td {\n",
       "    border: 1px solid black;\n",
       "    border-collapse: collapse;\n",
       "  }\n",
       "  th, td {\n",
       "    padding: 5px;\n",
       "  }\n",
       "  th {\n",
       "    text-align: left;\n",
       "  }\n",
       "</style><div class='table-result-container'><table class='table-result'><thead style='background-color: white'><tr><th>sex</th><th>age</th><th>heart_disease_count</th></tr></thead><tbody><tr><td>Female</td><td>62</td><td>5</td></tr><tr><td>Female</td><td>63</td><td>3</td></tr><tr><td>Female</td><td>57</td><td>2</td></tr><tr><td>Female</td><td>61</td><td>2</td></tr><tr><td>Female</td><td>58</td><td>2</td></tr><tr><td>Female</td><td>56</td><td>2</td></tr><tr><td>Female</td><td>60</td><td>2</td></tr><tr><td>Female</td><td>55</td><td>2</td></tr><tr><td>Female</td><td>65</td><td>1</td></tr><tr><td>Female</td><td>66</td><td>1</td></tr></tbody></table></div>"
      ]
     },
     "metadata": {
      "application/vnd.databricks.v1+output": {
       "addedWidgets": {},
       "aggData": [],
       "aggError": "",
       "aggOverflow": false,
       "aggSchema": [],
       "aggSeriesLimitReached": false,
       "aggType": "",
       "arguments": {},
       "columnCustomDisplayInfos": {},
       "data": [
        [
         "Female",
         62,
         5
        ],
        [
         "Female",
         63,
         3
        ],
        [
         "Female",
         57,
         2
        ],
        [
         "Female",
         61,
         2
        ],
        [
         "Female",
         58,
         2
        ],
        [
         "Female",
         56,
         2
        ],
        [
         "Female",
         60,
         2
        ],
        [
         "Female",
         55,
         2
        ],
        [
         "Female",
         65,
         1
        ],
        [
         "Female",
         66,
         1
        ]
       ],
       "datasetInfos": [],
       "dbfsResultPath": null,
       "isJsonSchema": true,
       "metadata": {},
       "overflow": false,
       "plotOptions": {
        "customPlotOptions": {},
        "displayType": "table",
        "pivotAggregation": null,
        "pivotColumns": null,
        "xColumns": null,
        "yColumns": null
       },
       "removedWidgets": [],
       "schema": [
        {
         "metadata": "{}",
         "name": "sex",
         "type": "\"string\""
        },
        {
         "metadata": "{}",
         "name": "age",
         "type": "\"integer\""
        },
        {
         "metadata": "{}",
         "name": "heart_disease_count",
         "type": "\"long\""
        }
       ],
       "type": "table"
      }
     },
     "output_type": "display_data"
    },
    {
     "output_type": "display_data",
     "data": {
      "text/plain": [
       "Databricks visualization. Run in Databricks to view."
      ]
     },
     "metadata": {
      "application/vnd.databricks.v1.subcommand+json": {
       "baseErrorDetails": null,
       "bindings": {},
       "collapsed": false,
       "command": "%sql WITH q AS (SELECT sex, age, COUNT(*) AS heart_disease_count\nFROM heart\nWHERE num > 0 AND sex = 'Female'\nGROUP BY sex, age\nORDER BY COUNT(*) DESC\nlimit 10) SELECT `age`,SUM(`heart_disease_count`) `column_769907e420`,`sex` FROM q GROUP BY `age`,`sex`",
       "commandTitle": "Visualization 1",
       "commandType": "auto",
       "commandVersion": 0,
       "commentThread": [],
       "commentsVisible": false,
       "contentSha256Hex": null,
       "customPlotOptions": {
        "redashChart": [
         {
          "key": "type",
          "value": "CHART"
         },
         {
          "key": "options",
          "value": {
           "alignYAxesAtZero": true,
           "coefficient": 1,
           "columnConfigurationMap": {
            "series": {
             "column": "sex",
             "id": "column_769907e421"
            },
            "x": {
             "column": "age",
             "id": "column_769907e419"
            },
            "y": [
             {
              "column": "heart_disease_count",
              "id": "column_769907e420",
              "transform": "SUM"
             }
            ]
           },
           "dateTimeFormat": "DD/MM/YYYY HH:mm",
           "direction": {
            "type": "counterclockwise"
           },
           "error_y": {
            "type": "data",
            "visible": true
           },
           "globalSeriesType": "pie",
           "isAggregationOn": true,
           "legend": {
            "traceorder": "normal"
           },
           "missingValuesAsZero": true,
           "numberFormat": "0,0.[00000]",
           "percentFormat": "0[.]00%",
           "series": {
            "error_y": {
             "type": "data",
             "visible": true
            },
            "stacking": null
           },
           "seriesOptions": {
            "column_769907e420": {
             "name": "heart_disease_count",
             "type": "pie",
             "yAxis": 0
            }
           },
           "showDataLabels": true,
           "sizemode": "diameter",
           "sortX": true,
           "sortY": true,
           "swappedAxes": false,
           "textFormat": "",
           "useAggregationsUi": true,
           "valuesOptions": {},
           "version": 2,
           "xAxis": {
            "labels": {
             "enabled": true
            },
            "type": "-"
           },
           "yAxis": [
            {
             "type": "-"
            },
            {
             "opposite": true,
             "type": "-"
            }
           ]
          }
         }
        ]
       },
       "datasetPreviewNameToCmdIdMap": {},
       "diffDeletes": [],
       "diffInserts": [],
       "displayType": "redashChart",
       "error": null,
       "errorDetails": null,
       "errorSummary": null,
       "errorTraceType": null,
       "finishTime": 0,
       "globalVars": {},
       "guid": "",
       "height": "auto",
       "hideCommandCode": false,
       "hideCommandResult": false,
       "iPythonMetadata": null,
       "inputWidgets": {},
       "isLockedInExamMode": false,
       "latestUser": "a user",
       "latestUserId": null,
       "listResultMetadata": null,
       "metadata": {
        "byteLimit": 2048000,
        "implicitDf": true,
        "rowLimit": 10000
       },
       "nuid": "6b2db4bf-59fe-43aa-a81d-ae9cc6380fa6",
       "origId": 0,
       "parentHierarchy": [],
       "pivotAggregation": null,
       "pivotColumns": null,
       "position": 16.0,
       "resultDbfsErrorMessage": null,
       "resultDbfsStatus": "INLINED_IN_TREE",
       "results": null,
       "showCommandTitle": false,
       "startTime": 0,
       "state": "finished",
       "streamStates": {},
       "subcommandOptions": {
        "queryPlan": {
         "groups": [
          {
           "column": "age",
           "type": "column"
          },
          {
           "column": "sex",
           "type": "column"
          }
         ],
         "selects": [
          {
           "column": "age",
           "type": "column"
          },
          {
           "alias": "column_769907e420",
           "args": [
            {
             "column": "heart_disease_count",
             "type": "column"
            }
           ],
           "function": "SUM",
           "type": "function"
          },
          {
           "column": "sex",
           "type": "column"
          }
         ]
        }
       },
       "submitTime": 0,
       "subtype": "tableResultSubCmd.visualization",
       "tableResultIndex": 0,
       "useConsistentColors": false,
       "version": "CommandV1",
       "width": "auto",
       "workflows": [],
       "xColumns": null,
       "yColumns": null
      }
     },
     "output_type": "display_data"
    }
   ],
   "source": [
    "%sql\n",
    "--erkekler için en çok hastalık gorulen 10 yaşı ve o yaştaki hasta sayısını getiren sorgu\n",
    "SELECT sex, age, COUNT(*) AS heart_disease_count\n",
    "FROM heart\n",
    "WHERE num > 0 AND sex = 'Female'\n",
    "GROUP BY sex, age\n",
    "ORDER BY COUNT(*) DESC\n",
    "limit 10\n"
   ]
  },
  {
   "cell_type": "code",
   "execution_count": 0,
   "metadata": {
    "application/vnd.databricks.v1+cell": {
     "cellMetadata": {
      "byteLimit": 2048000,
      "implicitDf": true,
      "rowLimit": 10000
     },
     "inputWidgets": {},
     "nuid": "065de2ef-ad00-4bf5-b91b-8e4d75b8d8f3",
     "showTitle": false,
     "title": ""
    }
   },
   "outputs": [
    {
     "output_type": "display_data",
     "data": {
      "text/html": [
       "<style scoped>\n",
       "  .table-result-container {\n",
       "    max-height: 300px;\n",
       "    overflow: auto;\n",
       "  }\n",
       "  table, th, td {\n",
       "    border: 1px solid black;\n",
       "    border-collapse: collapse;\n",
       "  }\n",
       "  th, td {\n",
       "    padding: 5px;\n",
       "  }\n",
       "  th {\n",
       "    text-align: left;\n",
       "  }\n",
       "</style><div class='table-result-container'><table class='table-result'><thead style='background-color: white'><tr><th>sex</th><th>age</th><th>heart_disease_count</th></tr></thead><tbody><tr><td>Male</td><td>58</td><td>10</td></tr><tr><td>Male</td><td>59</td><td>8</td></tr><tr><td>Male</td><td>57</td><td>8</td></tr><tr><td>Male</td><td>60</td><td>7</td></tr><tr><td>Male</td><td>54</td><td>6</td></tr><tr><td>Male</td><td>67</td><td>6</td></tr><tr><td>Male</td><td>56</td><td>5</td></tr><tr><td>Male</td><td>61</td><td>5</td></tr><tr><td>Male</td><td>64</td><td>4</td></tr><tr><td>Male</td><td>55</td><td>3</td></tr></tbody></table></div>"
      ]
     },
     "metadata": {
      "application/vnd.databricks.v1+output": {
       "addedWidgets": {},
       "aggData": [],
       "aggError": "",
       "aggOverflow": false,
       "aggSchema": [],
       "aggSeriesLimitReached": false,
       "aggType": "",
       "arguments": {},
       "columnCustomDisplayInfos": {},
       "data": [
        [
         "Male",
         58,
         10
        ],
        [
         "Male",
         59,
         8
        ],
        [
         "Male",
         57,
         8
        ],
        [
         "Male",
         60,
         7
        ],
        [
         "Male",
         54,
         6
        ],
        [
         "Male",
         67,
         6
        ],
        [
         "Male",
         56,
         5
        ],
        [
         "Male",
         61,
         5
        ],
        [
         "Male",
         64,
         4
        ],
        [
         "Male",
         55,
         3
        ]
       ],
       "datasetInfos": [],
       "dbfsResultPath": null,
       "isJsonSchema": true,
       "metadata": {},
       "overflow": false,
       "plotOptions": {
        "customPlotOptions": {},
        "displayType": "table",
        "pivotAggregation": null,
        "pivotColumns": null,
        "xColumns": null,
        "yColumns": null
       },
       "removedWidgets": [],
       "schema": [
        {
         "metadata": "{}",
         "name": "sex",
         "type": "\"string\""
        },
        {
         "metadata": "{}",
         "name": "age",
         "type": "\"integer\""
        },
        {
         "metadata": "{}",
         "name": "heart_disease_count",
         "type": "\"long\""
        }
       ],
       "type": "table"
      }
     },
     "output_type": "display_data"
    },
    {
     "output_type": "display_data",
     "data": {
      "text/plain": [
       "Databricks visualization. Run in Databricks to view."
      ]
     },
     "metadata": {
      "application/vnd.databricks.v1.subcommand+json": {
       "baseErrorDetails": null,
       "bindings": {},
       "collapsed": false,
       "command": "%sql WITH q AS (SELECT sex, age, COUNT(*) AS heart_disease_count\nFROM heart\nWHERE num > 0 AND sex = 'Male'\nGROUP BY sex, age\nORDER BY COUNT(*) DESC\nlimit 10) SELECT `age`,SUM(`heart_disease_count`) `column_769907e427`,`sex` FROM q GROUP BY `age`,`sex`",
       "commandTitle": "Visualization 1",
       "commandType": "auto",
       "commandVersion": 0,
       "commentThread": [],
       "commentsVisible": false,
       "contentSha256Hex": null,
       "customPlotOptions": {
        "redashChart": [
         {
          "key": "type",
          "value": "CHART"
         },
         {
          "key": "options",
          "value": {
           "alignYAxesAtZero": true,
           "coefficient": 1,
           "columnConfigurationMap": {
            "series": {
             "column": "sex",
             "id": "column_769907e428"
            },
            "x": {
             "column": "age",
             "id": "column_769907e426"
            },
            "y": [
             {
              "column": "heart_disease_count",
              "id": "column_769907e427",
              "transform": "SUM"
             }
            ]
           },
           "dateTimeFormat": "DD/MM/YYYY HH:mm",
           "direction": {
            "type": "counterclockwise"
           },
           "error_y": {
            "type": "data",
            "visible": true
           },
           "globalSeriesType": "pie",
           "isAggregationOn": true,
           "legend": {
            "traceorder": "normal"
           },
           "missingValuesAsZero": true,
           "numberFormat": "0,0.[00000]",
           "percentFormat": "0[.]00%",
           "series": {
            "error_y": {
             "type": "data",
             "visible": true
            },
            "stacking": null
           },
           "seriesOptions": {
            "column_769907e427": {
             "name": "heart_disease_count",
             "type": "pie",
             "yAxis": 0
            }
           },
           "showDataLabels": true,
           "sizemode": "diameter",
           "sortX": true,
           "sortY": true,
           "swappedAxes": false,
           "textFormat": "",
           "useAggregationsUi": true,
           "valuesOptions": {},
           "version": 2,
           "xAxis": {
            "labels": {
             "enabled": true
            },
            "type": "-"
           },
           "yAxis": [
            {
             "type": "-"
            },
            {
             "opposite": true,
             "type": "-"
            }
           ]
          }
         }
        ]
       },
       "datasetPreviewNameToCmdIdMap": {},
       "diffDeletes": [],
       "diffInserts": [],
       "displayType": "redashChart",
       "error": null,
       "errorDetails": null,
       "errorSummary": null,
       "errorTraceType": null,
       "finishTime": 0,
       "globalVars": {},
       "guid": "",
       "height": "auto",
       "hideCommandCode": false,
       "hideCommandResult": false,
       "iPythonMetadata": null,
       "inputWidgets": {},
       "isLockedInExamMode": false,
       "latestUser": "a user",
       "latestUserId": null,
       "listResultMetadata": null,
       "metadata": {
        "byteLimit": 2048000,
        "implicitDf": true,
        "rowLimit": 10000
       },
       "nuid": "780036aa-c946-4d11-bd94-7bca6ad9549e",
       "origId": 0,
       "parentHierarchy": [],
       "pivotAggregation": null,
       "pivotColumns": null,
       "position": 17.0,
       "resultDbfsErrorMessage": null,
       "resultDbfsStatus": "INLINED_IN_TREE",
       "results": null,
       "showCommandTitle": false,
       "startTime": 0,
       "state": "finished",
       "streamStates": {},
       "subcommandOptions": {
        "queryPlan": {
         "groups": [
          {
           "column": "age",
           "type": "column"
          },
          {
           "column": "sex",
           "type": "column"
          }
         ],
         "selects": [
          {
           "column": "age",
           "type": "column"
          },
          {
           "alias": "column_769907e427",
           "args": [
            {
             "column": "heart_disease_count",
             "type": "column"
            }
           ],
           "function": "SUM",
           "type": "function"
          },
          {
           "column": "sex",
           "type": "column"
          }
         ]
        }
       },
       "submitTime": 0,
       "subtype": "tableResultSubCmd.visualization",
       "tableResultIndex": 0,
       "useConsistentColors": false,
       "version": "CommandV1",
       "width": "auto",
       "workflows": [],
       "xColumns": null,
       "yColumns": null
      }
     },
     "output_type": "display_data"
    }
   ],
   "source": [
    "%sql\n",
    "--kadınlar için en çok hastalık gorulen 10 yaşı ve o yaştaki hasta sayısını getiren sorgu\n",
    "\n",
    "SELECT sex, age, COUNT(*) AS heart_disease_count\n",
    "FROM heart\n",
    "WHERE num > 0 AND sex = 'Male'\n",
    "GROUP BY sex, age\n",
    "ORDER BY COUNT(*) DESC\n",
    "limit 10\n"
   ]
  },
  {
   "cell_type": "code",
   "execution_count": 0,
   "metadata": {
    "application/vnd.databricks.v1+cell": {
     "cellMetadata": {
      "byteLimit": 2048000,
      "rowLimit": 10000
     },
     "inputWidgets": {},
     "nuid": "5a7e1a5c-5ac9-4413-a842-055e9e137954",
     "showTitle": false,
     "title": ""
    }
   },
   "outputs": [
    {
     "output_type": "display_data",
     "data": {
      "image/png": "[encoded data removed]"
     },
     "metadata": {
      "application/vnd.databricks.v1+output": {
       "addedWidgets": {},
       "arguments": {},
       "data": "data:image/png;base64,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\n",
       "datasetInfos": [],
       "metadata": {},
       "removedWidgets": [],
       "type": "image"
      }
     },
     "output_type": "display_data"
    }
   ],
   "source": [
    "from pyspark.sql.functions import col, count\n",
    "\n",
    "# Kan basıncına (trestbps) göre kalp hastalığına sahip sayısını analiz etme\n",
    "heart_disease_count_trestbps = df.where(col(\"num\") > 0) \\\n",
    "    .groupBy(\"trestbps\") \\\n",
    "    .agg(count(\"*\").alias(\"heart_disease_count\")) \\\n",
    "    .orderBy(\"trestbps\", ascending=True) \\\n",
    "    .toPandas()\n",
    "\n",
    "import matplotlib.pyplot as plt\n",
    " \n",
    "heart_disease_count_trestbps.plot(kind='bar', x='trestbps', y='heart_disease_count', figsize=(10,6))\n",
    "plt.title('Kalp Hastalığı Sayısına Göre Kan Basıncı Dağılımı')\n",
    "plt.xlabel('Kan Basıncı (trestbps)')\n",
    "plt.ylabel('Kalp Hastalığı Sayısı')\n",
    "plt.show()\n",
    "\n"
   ]
  },
  {
   "cell_type": "code",
   "execution_count": 0,
   "metadata": {
    "application/vnd.databricks.v1+cell": {
     "cellMetadata": {
      "byteLimit": 2048000,
      "rowLimit": 10000
     },
     "inputWidgets": {},
     "nuid": "73843eeb-6236-4f51-ae81-7c05b14de240",
     "showTitle": false,
     "title": ""
    }
   },
   "outputs": [
    {
     "output_type": "display_data",
     "data": {
      "image/png": "[encoded data removed]"
     },
     "metadata": {
      "application/vnd.databricks.v1+output": {
       "addedWidgets": {},
       "arguments": {},
       "data": "data:image/png;base64,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\n",
       "datasetInfos": [],
       "metadata": {},
       "removedWidgets": [],
       "type": "image"
      }
     },
     "output_type": "display_data"
    }
   ],
   "source": [
    "#Kolesterol Düzeylerine Göre Kalp Hastalarının Dağılımı\n",
    "\n",
    "heart_disease_by_chol=df.withColumn(\"cholesterol_level\",\n",
    "              when(col(\"chol\") < 200, \"Ideal\")\n",
    "              .when((col(\"chol\") >= 200) & (col(\"chol\") <= 239), \"Sınırda\")\n",
    "                .otherwise(\"Yüksek\")) \\\n",
    "\n",
    "\n",
    "heart_disease_by_chol=heart_disease_by_chol.where(col(\"num\")>0) \\\n",
    "    .groupBy(\"cholesterol_level\") \\\n",
    "    .agg(count(\"*\").alias(\"heart_disease_count\")) \\\n",
    "    .orderBy(\"heart_disease_count\", ascending=False) \\\n",
    "    .toPandas()\n",
    "    \n",
    "\n",
    "plt.figure(figsize=(8, 6))\n",
    "plt.pie(heart_disease_by_chol['heart_disease_count'], labels=heart_disease_by_chol['cholesterol_level'], autopct='%1.1f%%', startangle=140)\n",
    "plt.title('Kolesterol Düzeylerine Göre Kalp Hastalarının Dağılımı')\n",
    "plt.axis('equal')  \n",
    "plt.show()\n",
    "\n",
    "\n",
    "\n",
    "    \n",
    "\n",
    "                                      \n",
    "                                    \n",
    "              \n",
    "                                      \n",
    "\n",
    "              \n"
   ]
  },
  {
   "cell_type": "code",
   "execution_count": 0,
   "metadata": {
    "application/vnd.databricks.v1+cell": {
     "cellMetadata": {
      "byteLimit": 2048000,
      "rowLimit": 10000
     },
     "inputWidgets": {},
     "nuid": "302e5a57-8e0d-4c11-83c9-108630d4dadf",
     "showTitle": false,
     "title": ""
    }
   },
   "outputs": [
    {
     "output_type": "display_data",
     "data": {
      "image/png": "[encoded data removed]"
     },
     "metadata": {
      "application/vnd.databricks.v1+output": {
       "addedWidgets": {},
       "arguments": {},
       "data": "data:image/png;base64,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\n",
       "datasetInfos": [],
       "metadata": {},
       "removedWidgets": [],
       "type": "image"
      }
     },
     "output_type": "display_data"
    }
   ],
   "source": [
    "#'Max Kalp Atış Hızlarına Göre Kalp Hastalarının Dağılımı\n",
    "\n",
    "\n",
    "df_thalch_category = df.withColumn(\"thalch_category\",\n",
    "                  when(col(\"thalch\") < 153, \"Düşük\")\n",
    "                  .when((col(\"thalch\") >= 153) & (col(\"thalch\") <= 180), \"Ideal\")\n",
    "                  .when(col(\"thalch\") > 180, \"Yüksek\")\n",
    "                  .otherwise(\"Unknown\"))\n",
    "\n",
    "df_thalch_category = df_thalch_category.where(col(\"num\") > 0) \\\n",
    "    .groupBy(\"thalch_category\") \\\n",
    "    .agg(count(\"*\").alias(\"heart_disease_count\")) \\\n",
    "    .orderBy(\"heart_disease_count\", ascending=False) \\\n",
    "    .toPandas()\n",
    "\n",
    "plt.figure(figsize=(8, 6))\n",
    "plt.pie(df_thalch_category['heart_disease_count'], labels=df_thalch_category['thalch_category'], autopct='%1.1f%%', startangle=140)\n",
    "plt.title('Max Kalp Atış Hızlarına Göre Kalp Hastalarının Dağılımı')\n",
    "plt.axis('equal')\n",
    "plt.show()"
   ]
  },
  {
   "cell_type": "code",
   "execution_count": 0,
   "metadata": {
    "application/vnd.databricks.v1+cell": {
     "cellMetadata": {
      "byteLimit": 2048000,
      "rowLimit": 10000
     },
     "inputWidgets": {},
     "nuid": "4823ebda-b17a-4fac-b2e9-856fb44cade4",
     "showTitle": false,
     "title": ""
    }
   },
   "outputs": [
    {
     "output_type": "display_data",
     "data": {
      "image/png": "[encoded data removed]"
     },
     "metadata": {
      "application/vnd.databricks.v1+output": {
       "addedWidgets": {},
       "arguments": {},
       "data": "data:image/png;base64,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\n",
       "datasetInfos": [],
       "metadata": {},
       "removedWidgets": [],
       "type": "image"
      }
     },
     "output_type": "display_data"
    }
   ],
   "source": [
    "from pyspark.sql import functions as F\n",
    "\n",
    "# Göğüs ağrısı tipine göre kalp hastalığına sahip olan kişilerin sayısı\n",
    "df_cp_count = df.where(df.num > 0) \\\n",
    "    .groupBy(\"cp\") \\\n",
    "    .agg(F.count(\"*\").alias(\"cp_count\")) \\\n",
    "    .orderBy(\"cp_count\", ascending=False)\n",
    "\n",
    "\n",
    "import matplotlib.pyplot as plt\n",
    "# toPandas\n",
    "df_pd = df_cp_count.toPandas()\n",
    "\n",
    "# grafik\n",
    "plt.figure(figsize=(10, 6))\n",
    "plt.bar(df_pd['cp'], df_pd['cp_count'], color='skyblue')\n",
    "plt.xlabel('Göğüs Ağrısı Tipi')\n",
    "plt.ylabel('Kalp Hastalığı Sayısı')\n",
    "plt.title('Göğüs Ağrısı Tipine Göre Kalp Hastalığına Sahip Olanların Dağılımı')\n",
    "plt.xticks(rotation=45)\n",
    "plt.show()\n",
    "\n",
    "\n",
    "\n"
   ]
  },
  {
   "cell_type": "code",
   "execution_count": 0,
   "metadata": {
    "application/vnd.databricks.v1+cell": {
     "cellMetadata": {},
     "inputWidgets": {},
     "nuid": "adffa83f-ea1d-463d-ba40-404d1d21c9cd",
     "showTitle": false,
     "title": ""
    }
   },
   "outputs": [],
   "source": []
  }
 ],
 "metadata": {
  "application/vnd.databricks.v1+notebook": {
   "dashboards": [],
   "environmentMetadata": null,
   "language": "python",
   "notebookMetadata": {
    "mostRecentlyExecutedCommandWithImplicitDF": {
     "commandId": 2664365191933965,
     "dataframes": [
      "_sqldf"
     ]
    },
    "pythonIndentUnit": 4
   },
   "notebookName": "heart_disease",
   "widgets": {}
  }
 },
 "nbformat": 4,
 "nbformat_minor": 0
}
